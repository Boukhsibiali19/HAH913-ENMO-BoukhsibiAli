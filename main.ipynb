{
 "cells": [
  {
   "cell_type": "markdown",
   "id": "4abe207c",
   "metadata": {},
   "source": []
  },
  {
   "cell_type": "markdown",
   "id": "cc75a80e",
   "metadata": {},
   "source": [
    " We start by reading the data. The file `0_z.csv` is imported, which contains the time column (`t`, in seconds) and the three acceleration components (`x`, `y`, `z`, in g).\n"
   ]
  },
  {
   "cell_type": "code",
   "execution_count": 1,
   "id": "f620ae58",
   "metadata": {},
   "outputs": [],
   "source": [
    "import pandas as pd"
   ]
  },
  {
   "cell_type": "markdown",
   "id": "648f3b77",
   "metadata": {},
   "source": [
    "We read the file, ignoring the first comment line: accelerometer data in g, and we display the 5 rows and column names to verify the file and structure \n"
   ]
  },
  {
   "cell_type": "markdown",
   "id": "f640679b",
   "metadata": {},
   "source": []
  },
  {
   "cell_type": "code",
   "execution_count": 2,
   "id": "da45a078",
   "metadata": {},
   "outputs": [
    {
     "name": "stdout",
     "output_type": "stream",
     "text": [
      "      t       x       y       z\n",
      "0  0.00 -0.0938 -0.0156  0.9531\n",
      "1  0.02 -0.0938 -0.0156  0.9531\n",
      "2  0.04 -0.0938 -0.0156  0.9531\n",
      "3  0.06 -0.0938 -0.0156  0.9531\n",
      "4  0.08 -0.0938 -0.0156  0.9531\n",
      "Index(['t', 'x', 'y', 'z'], dtype='object')\n"
     ]
    }
   ],
   "source": [
    "df = pd.read_csv(r\"C:\\Users\\alibo\\Downloads\\0_z.csv\", comment=\"#\")\n",
    "print(df.head())\n",
    "print(df.columns)"
   ]
  },
  {
   "cell_type": "markdown",
   "id": "9e7d240f",
   "metadata": {},
   "source": [
    "## ENMO Calculation\n",
    "Next, we calculate ENMO and check the first 5 rows. I asked Copilot to provide the code to compute ENMO."
   ]
  },
  {
   "cell_type": "code",
   "execution_count": 5,
   "id": "815244a4",
   "metadata": {},
   "outputs": [
    {
     "name": "stdout",
     "output_type": "stream",
     "text": [
      "      t       x       y       z  enmo\n",
      "0  0.00 -0.0938 -0.0156  0.9531   0.0\n",
      "1  0.02 -0.0938 -0.0156  0.9531   0.0\n",
      "2  0.04 -0.0938 -0.0156  0.9531   0.0\n",
      "3  0.06 -0.0938 -0.0156  0.9531   0.0\n",
      "4  0.08 -0.0938 -0.0156  0.9531   0.0\n"
     ]
    }
   ],
   "source": [
    "import numpy as np\n",
    "\n",
    "r = np.sqrt(df[\"x\"]**2 + df[\"y\"]**2 + df[\"z\"]**2)\n",
    "df[\"enmo\"] = np.maximum(0, r - 1)\n",
    "\n",
    "print(df.head())\n"
   ]
  },
  {
   "cell_type": "markdown",
   "id": "6c8ce253",
   "metadata": {},
   "source": [
    "## Grouping Data into Epochs\n",
    "\n",
    "We group the data into fixed windows (epochs) of 10 s, 30 s, and 60 s. I asked Copilot to re-explain epochs with an example and provide the simplest code.\n",
    "\n",
    "We need a time index to group data by fixed windows."
   ]
  },
  {
   "cell_type": "markdown",
   "id": "bfc04361",
   "metadata": {},
   "source": []
  },
  {
   "cell_type": "code",
   "execution_count": 6,
   "id": "5fa55bcf",
   "metadata": {},
   "outputs": [
    {
     "name": "stdout",
     "output_type": "stream",
     "text": [
      "time\n",
      "1970-01-01 00:00:00    0.00004\n",
      "1970-01-01 00:00:10    0.00000\n",
      "1970-01-01 00:00:20    0.00000\n",
      "1970-01-01 00:00:30    0.00000\n",
      "1970-01-01 00:00:40    0.00000\n",
      "Freq: 10s, Name: enmo, dtype: float64\n",
      "time\n",
      "1970-01-01 00:00:00    0.000013\n",
      "1970-01-01 00:00:30    0.000117\n",
      "1970-01-01 00:01:00    0.000000\n",
      "1970-01-01 00:01:30    0.000000\n",
      "1970-01-01 00:02:00    0.000000\n",
      "Freq: 30s, Name: enmo, dtype: float64\n",
      "time\n",
      "1970-01-01 00:00:00    0.000065\n",
      "1970-01-01 00:01:00    0.000000\n",
      "1970-01-01 00:02:00    0.000133\n",
      "1970-01-01 00:03:00    0.000093\n",
      "1970-01-01 00:04:00    0.358817\n",
      "Freq: 60s, Name: enmo, dtype: float64\n"
     ]
    }
   ],
   "source": [
    "# Convert t (seconds) to datetime format\n",
    "df[\"time\"] = pd.to_datetime(df[\"t\"], unit=\"s\")\n",
    "\n",
    "# Set this column as the dataframe index\n",
    "df = df.set_index(\"time\")\n",
    "\n",
    "# Calculate mean ENMO for 10, 30, and 60-second windows using pandas resample()\n",
    "enmo_10s = df[\"enmo\"].resample(\"10s\").mean()\n",
    "enmo_30s = df[\"enmo\"].resample(\"30s\").mean()\n",
    "enmo_60s = df[\"enmo\"].resample(\"60s\").mean()\n",
    "\n",
    "# Verify first 5 rows\n",
    "print(enmo_10s.head())\n",
    "print(enmo_30s.head())\n",
    "print(enmo_60s.head())\n"
   ]
  }
 ],
 "metadata": {
  "kernelspec": {
   "display_name": "base",
   "language": "python",
   "name": "python3"
  },
  "language_info": {
   "codemirror_mode": {
    "name": "ipython",
    "version": 3
   },
   "file_extension": ".py",
   "mimetype": "text/x-python",
   "name": "python",
   "nbconvert_exporter": "python",
   "pygments_lexer": "ipython3",
   "version": "3.12.4"
  }
 },
 "nbformat": 4,
 "nbformat_minor": 5
}
