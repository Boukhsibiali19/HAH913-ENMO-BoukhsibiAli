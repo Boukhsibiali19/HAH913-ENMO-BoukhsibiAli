{
 "cells": [
  {
   "cell_type": "markdown",
   "id": "4abe207c",
   "metadata": {},
   "source": []
  },
  {
   "cell_type": "markdown",
   "id": "cc75a80e",
   "metadata": {},
   "source": [
    " We start by reading the data. The file `0_z.csv` is imported, which contains the time column (`t`, in seconds) and the three acceleration components (`x`, `y`, `z`, in g).\n"
   ]
  },
  {
   "cell_type": "code",
   "execution_count": 1,
   "id": "f620ae58",
   "metadata": {},
   "outputs": [],
   "source": [
    "import pandas as pd"
   ]
  },
  {
   "cell_type": "markdown",
   "id": "648f3b77",
   "metadata": {},
   "source": [
    "We read the file, ignoring the first comment line: accelerometer data in g.\n"
   ]
  },
  {
   "cell_type": "code",
   "execution_count": 2,
   "id": "da45a078",
   "metadata": {},
   "outputs": [],
   "source": [
    "df = pd.read_csv(\"0_z.csv\", comment=\"#\")"
   ]
  },
  {
   "cell_type": "markdown",
   "id": "bfc04361",
   "metadata": {},
   "source": []
  }
 ],
 "metadata": {
  "kernelspec": {
   "display_name": "base",
   "language": "python",
   "name": "python3"
  },
  "language_info": {
   "codemirror_mode": {
    "name": "ipython",
    "version": 3
   },
   "file_extension": ".py",
   "mimetype": "text/x-python",
   "name": "python",
   "nbconvert_exporter": "python",
   "pygments_lexer": "ipython3",
   "version": "3.12.4"
  }
 },
 "nbformat": 4,
 "nbformat_minor": 5
}
