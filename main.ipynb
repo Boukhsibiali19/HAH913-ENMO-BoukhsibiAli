{
 "cells": [
  {
   "cell_type": "markdown",
   "id": "4abe207c",
   "metadata": {},
   "source": []
  },
  {
   "cell_type": "markdown",
   "id": "cc75a80e",
   "metadata": {},
   "source": [
    " We start by reading the data. The file `0_z.csv` is imported, which contains the time column (`t`, in seconds) and the three acceleration components (`x`, `y`, `z`, in g).\n"
   ]
  },
  {
   "cell_type": "code",
   "execution_count": 1,
   "id": "f620ae58",
   "metadata": {},
   "outputs": [],
   "source": [
    "import pandas as pd"
   ]
  },
  {
   "cell_type": "markdown",
   "id": "648f3b77",
   "metadata": {},
   "source": [
    "We read the file, ignoring the first comment line: accelerometer data in g, and we display the 5 rows and column names to verify the file and structure \n"
   ]
  },
  {
   "cell_type": "markdown",
   "id": "f640679b",
   "metadata": {},
   "source": []
  },
  {
   "cell_type": "code",
   "execution_count": 2,
   "id": "da45a078",
   "metadata": {},
   "outputs": [
    {
     "name": "stdout",
     "output_type": "stream",
     "text": [
      "      t       x       y       z\n",
      "0  0.00 -0.0938 -0.0156  0.9531\n",
      "1  0.02 -0.0938 -0.0156  0.9531\n",
      "2  0.04 -0.0938 -0.0156  0.9531\n",
      "3  0.06 -0.0938 -0.0156  0.9531\n",
      "4  0.08 -0.0938 -0.0156  0.9531\n",
      "Index(['t', 'x', 'y', 'z'], dtype='object')\n"
     ]
    }
   ],
   "source": [
    "df = pd.read_csv(r\"C:\\Users\\alibo\\Downloads\\0_z.csv\", comment=\"#\")\n",
    "print(df.head())\n",
    "print(df.columns)"
   ]
  },
  {
   "cell_type": "markdown",
   "id": "9e7d240f",
   "metadata": {},
   "source": [
    "## ENMO Calculation\n",
    "Next, we calculate ENMO and check the first 5 rows. I asked Copilot to provide the code to compute ENMO."
   ]
  },
  {
   "cell_type": "code",
   "execution_count": 3,
   "id": "815244a4",
   "metadata": {},
   "outputs": [
    {
     "name": "stdout",
     "output_type": "stream",
     "text": [
      "      t       x       y       z  enmo\n",
      "0  0.00 -0.0938 -0.0156  0.9531   0.0\n",
      "1  0.02 -0.0938 -0.0156  0.9531   0.0\n",
      "2  0.04 -0.0938 -0.0156  0.9531   0.0\n",
      "3  0.06 -0.0938 -0.0156  0.9531   0.0\n",
      "4  0.08 -0.0938 -0.0156  0.9531   0.0\n"
     ]
    }
   ],
   "source": [
    "import numpy as np\n",
    "\n",
    "r = np.sqrt(df[\"x\"]**2 + df[\"y\"]**2 + df[\"z\"]**2)\n",
    "df[\"enmo\"] = np.maximum(0, r - 1)\n",
    "\n",
    "print(df.head())\n"
   ]
  },
  {
   "cell_type": "markdown",
   "id": "bfc04361",
   "metadata": {},
   "source": []
  }
 ],
 "metadata": {
  "kernelspec": {
   "display_name": "base",
   "language": "python",
   "name": "python3"
  },
  "language_info": {
   "codemirror_mode": {
    "name": "ipython",
    "version": 3
   },
   "file_extension": ".py",
   "mimetype": "text/x-python",
   "name": "python",
   "nbconvert_exporter": "python",
   "pygments_lexer": "ipython3",
   "version": "3.12.4"
  }
 },
 "nbformat": 4,
 "nbformat_minor": 5
}
